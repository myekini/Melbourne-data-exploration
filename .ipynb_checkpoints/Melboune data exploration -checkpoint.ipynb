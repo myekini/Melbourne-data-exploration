{
 "cells": [
  {
   "cell_type": "code",
   "execution_count": 80,
   "id": "6a67793c",
   "metadata": {},
   "outputs": [],
   "source": [
    "import pandas as pd\n",
    "\n",
    "melbourne_file_path = \"melb_data.csv\"\n",
    "melbourne_data = pd.read_csv(melbourne_file_path)\n",
    "#melbourne_data.describe()"
   ]
  },
  {
   "cell_type": "code",
   "execution_count": 81,
   "id": "f61ea897",
   "metadata": {},
   "outputs": [
    {
     "data": {
      "text/plain": [
       "Index(['Suburb', 'Address', 'Rooms', 'Type', 'Price', 'Method', 'SellerG',\n",
       "       'Date', 'Distance', 'Postcode', 'Bedroom2', 'Bathroom', 'Car',\n",
       "       'Landsize', 'BuildingArea', 'YearBuilt', 'CouncilArea', 'Lattitude',\n",
       "       'Longtitude', 'Regionname', 'Propertycount'],\n",
       "      dtype='object')"
      ]
     },
     "execution_count": 81,
     "metadata": {},
     "output_type": "execute_result"
    }
   ],
   "source": [
    " melbourne_data.columns"
   ]
  },
  {
   "cell_type": "code",
   "execution_count": 82,
   "id": "7c6238b9",
   "metadata": {},
   "outputs": [],
   "source": [
    "y = melbourne_data.Price"
   ]
  },
  {
   "cell_type": "code",
   "execution_count": 83,
   "id": "678202dd",
   "metadata": {},
   "outputs": [],
   "source": [
    "melbourne_features = ['Rooms', 'Bathroom','Landsize','Lattitude','Longtitude']"
   ]
  },
  {
   "cell_type": "code",
   "execution_count": 84,
   "id": "8adba298",
   "metadata": {},
   "outputs": [],
   "source": [
    "X = melbourne_data[melbourne_features]\n",
    "#X.head()"
   ]
  },
  {
   "cell_type": "code",
   "execution_count": 85,
   "id": "5984276f",
   "metadata": {},
   "outputs": [
    {
     "data": {
      "text/plain": [
       "DecisionTreeRegressor(random_state=1)"
      ]
     },
     "execution_count": 85,
     "metadata": {},
     "output_type": "execute_result"
    }
   ],
   "source": [
    "from sklearn.tree import DecisionTreeRegressor\n",
    "\n",
    "#define model and specify no of random state to ensure same results\n",
    "melbourne_model = DecisionTreeRegressor(random_state=1)\n",
    "\n",
    "#fit model\n",
    "melbourne_model.fit(X,y)"
   ]
  },
  {
   "cell_type": "code",
   "execution_count": 86,
   "id": "8a9751d9",
   "metadata": {},
   "outputs": [
    {
     "name": "stdout",
     "output_type": "stream",
     "text": [
      "making predictions for the following five houses\n",
      "   Rooms  Bathroom  Landsize  Lattitude  Longtitude\n",
      "0      2       1.0     202.0   -37.7996    144.9984\n",
      "1      2       1.0     156.0   -37.8079    144.9934\n",
      "2      3       2.0     134.0   -37.8093    144.9944\n",
      "3      3       2.0      94.0   -37.7969    144.9969\n",
      "4      4       1.0     120.0   -37.8072    144.9941\n",
      "The predictions are...\n",
      "[1480000. 1035000. 1465000.  850000. 1600000.]\n"
     ]
    }
   ],
   "source": [
    "#make predictions\n",
    "print('making predictions for the following five houses')\n",
    "print(X.head())\n",
    "\n",
    "print(\"The predictions are...\")\n",
    "print(melbourne_model.predict(X.head()))\n",
    "\n",
    "# trying to measure the accuracy of our model the less smart way\n",
    "# y.head()"
   ]
  },
  {
   "cell_type": "code",
   "execution_count": 87,
   "id": "8ed36053",
   "metadata": {},
   "outputs": [
    {
     "data": {
      "text/plain": [
       "1125.1804614629357"
      ]
     },
     "execution_count": 87,
     "metadata": {},
     "output_type": "execute_result"
    }
   ],
   "source": [
    "# evaluating the quality of the model using Mean Absolute Error\n",
    "from sklearn.metrics import mean_absolute_error\n",
    "\n",
    "predicted_home_prices = melbourne_model.predict(X)\n",
    "mean_absolute_error(y, predicted_home_prices)"
   ]
  },
  {
   "cell_type": "code",
   "execution_count": 88,
   "id": "b1d49ec4",
   "metadata": {},
   "outputs": [
    {
     "name": "stdout",
     "output_type": "stream",
     "text": [
      "247230.40157093765\n",
      "[1325000.  955000.  571000. ... 1400000.  819000. 1285000.]\n"
     ]
    }
   ],
   "source": [
    "from sklearn.model_selection import train_test_split\n",
    "\n",
    "# split data into training and validation data, for both features and target\n",
    "# The split is based on a random number generator. Supplying a numeric value to\n",
    "# the random_state argument guarantees we get the same split every time we\n",
    "# run this script.\n",
    "train_X, val_X, train_y, val_y = train_test_split(X, y, random_state = 0)\n",
    "\n",
    "# Define model\n",
    "melbourne_model = DecisionTreeRegressor()\n",
    "\n",
    "# Fit model\n",
    "melbourne_model.fit(train_X, train_y)\n",
    "\n",
    "# get predicted prices on validation data\n",
    "val_predictions = melbourne_model.predict(val_X)\n",
    "print(mean_absolute_error(val_y, val_predictions))\n",
    "print(val_predictions)"
   ]
  },
  {
   "cell_type": "code",
   "execution_count": 89,
   "id": "6887370a",
   "metadata": {},
   "outputs": [
    {
     "name": "stdout",
     "output_type": "stream",
     "text": [
      "180860.37877504269\n"
     ]
    }
   ],
   "source": [
    "from sklearn.ensemble import RandomForestRegressor\n",
    "\n",
    "melbourne_model_2 = RandomForestRegressor(random_state=1)\n",
    "melbourne_model_2.fit(train_X, train_y)\n",
    "\n",
    "#predict the house prices on the validation data\n",
    "val_predictions_2 = melbourne_model_2.predict(val_X)\n",
    "print(mean_absolute_error(val_y, val_predictions_2))"
   ]
  },
  {
   "cell_type": "code",
   "execution_count": 90,
   "id": "79dc9072",
   "metadata": {},
   "outputs": [
    {
     "data": {
      "text/plain": [
       "191525.59192369733"
      ]
     },
     "execution_count": 90,
     "metadata": {},
     "output_type": "execute_result"
    }
   ],
   "source": [
    "# define a function that builds a model and makes predictions\n",
    "    \n",
    "from sklearn.metrics import mean_absolute_error\n",
    "\n",
    "def Scoreall(train_X, val_X, train_y, val_y):\n",
    "    model = RandomForestRegressor(n_estimators=10,random_state=1)\n",
    "    model.fit(train_X, train_y)\n",
    "    preds = model.predict(val_X)\n",
    "    return mean_absolute_error(val_y,preds)\n",
    "\n",
    "Scoreall(train_X, val_X, train_y, val_y)\n",
    "\n"
   ]
  },
  {
   "cell_type": "code",
   "execution_count": 91,
   "id": "ad44fd5f",
   "metadata": {},
   "outputs": [
    {
     "name": "stdout",
     "output_type": "stream",
     "text": [
      "MAE from approache 1(drop columns with missing data)\n",
      "191525.59192369733\n"
     ]
    }
   ],
   "source": [
    "# get columns with missing data\n",
    "cols_with_missing = [col for col in train_X.columns\n",
    "                    if train_X[col].isnull().any()]\n",
    "#drop columns in training and validation dat\n",
    "\n",
    "reduced_X_train = train_X.drop(cols_with_missing,axis=1)\n",
    "reduced_X_val = val_X.drop(cols_with_missing,axis=1)\n",
    "\n",
    "print(\"MAE from approache 1(drop columns with missing data)\")\n",
    "print(Scoreall(reduced_X_train, reduced_X_val, train_y, val_y))"
   ]
  },
  {
   "cell_type": "code",
   "execution_count": 94,
   "id": "03939c6a",
   "metadata": {},
   "outputs": [
    {
     "name": "stdout",
     "output_type": "stream",
     "text": [
      "MAE: 182369.6504033476\n"
     ]
    }
   ],
   "source": [
    "# build a pipeline \n",
    "from sklearn.compose import ColumnTransformer\n",
    "from sklearn.pipeline import Pipeline\n",
    "from sklearn.impute import SimpleImputer\n",
    "from sklearn.preprocessing import OneHotEncoder\n",
    "\n",
    "#preprocessing for missing numerical data\n",
    "numerical_transformer = SimpleImputer(strategy='constant')\n",
    "\n",
    "#preprocessing for categorical data\n",
    "categorical_transformer = Pipeline(steps=[\n",
    "    ('imputer', SimpleImputer(strategy='most_frequent')),\n",
    "    ('onehot', OneHotEncoder(handle_unknown='ignore'))\n",
    "])\n",
    "\n",
    "#columns with missing data\n",
    "numerical_cols = [col for col in train_X.columns\n",
    "                 if train_X[col].dtype in ['int64', 'float64']]\n",
    "\n",
    "#colums with categorical data\n",
    "categorical_cols = [col for col in train_X.columns\n",
    "                   if train_X[col].nunique() < 10 and \n",
    "                   train_X[col].dtype == \"object\"]\n",
    "\n",
    "#Bundle preprocessing for numerical and categorical data\n",
    "preprocessor = ColumnTransformer(\n",
    "    transformers=[\n",
    "        ('num', numerical_transformer, numerical_cols),\n",
    "        ('cat', categorical_transformer, categorical_cols)\n",
    "    ])\n",
    "\n",
    "\n",
    "#define the model. we'd be using randomForestRegressor\n",
    "from sklearn.ensemble import RandomForestRegressor\n",
    "from sklearn.metrics import mean_absolute_error\n",
    "\n",
    "model = RandomForestRegressor(n_estimators=100 , random_state=0)\n",
    "\n",
    "#bundle preprocessing and modelling code in a pipeline\n",
    "my_pipeline = Pipeline(steps=[('preprocessor', preprocessor),\n",
    "                             ('model', model)])\n",
    "\n",
    "#preprocessing of training data fit model\n",
    "my_pipeline.fit(train_X, train_y)\n",
    "\n",
    "#preprocessing of validation data and get predictions\n",
    "preds = my_pipeline.predict(val_X)\n",
    "\n",
    "#Evaluate the model\n",
    "score = mean_absolute_error(val_y,preds)\n",
    "print('MAE:', score)"
   ]
  },
  {
   "cell_type": "code",
   "execution_count": null,
   "id": "576520de",
   "metadata": {},
   "outputs": [],
   "source": [
    "# save output to a csv file\n",
    "\n",
    "output = pd.DataFrame({'Id':val_X.index, 'SalePrice': val_predictions_2})\n",
    "output.to_csv('submission.csv', index=False)"
   ]
  },
  {
   "cell_type": "code",
   "execution_count": null,
   "id": "c09f9922",
   "metadata": {},
   "outputs": [],
   "source": []
  },
  {
   "cell_type": "code",
   "execution_count": null,
   "id": "494e2d1f",
   "metadata": {},
   "outputs": [],
   "source": []
  },
  {
   "cell_type": "code",
   "execution_count": null,
   "id": "47ae3b35",
   "metadata": {},
   "outputs": [],
   "source": []
  }
 ],
 "metadata": {
  "kernelspec": {
   "display_name": "Python 3 (ipykernel)",
   "language": "python",
   "name": "python3"
  },
  "language_info": {
   "codemirror_mode": {
    "name": "ipython",
    "version": 3
   },
   "file_extension": ".py",
   "mimetype": "text/x-python",
   "name": "python",
   "nbconvert_exporter": "python",
   "pygments_lexer": "ipython3",
   "version": "3.9.7"
  }
 },
 "nbformat": 4,
 "nbformat_minor": 5
}
